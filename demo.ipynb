{
 "cells": [
  {
   "cell_type": "code",
   "execution_count": null,
   "metadata": {},
   "outputs": [],
   "source": [
    "import anvil.server\n",
    "import anvil.media\n",
    "from anvil.tables import app_tables\n",
    "\n",
    "anvil.server.connect(\"server_key\")"
   ]
  },
  {
   "cell_type": "code",
   "execution_count": null,
   "metadata": {},
   "outputs": [],
   "source": [
    "import ffmpeg\n",
    "from datetime import datetime\n",
    "import os\n",
    "\n",
    "@anvil.server.callable\n",
    "def save_video_file(file):\n",
    "    file_path = file.name\n",
    "    if file_path.endswith('.mp4') or file_path.endswith('.avi'):\n",
    "        with open(file_path, \"wb\") as f:\n",
    "            f.write(file.get_bytes())\n",
    "\n",
    "        if file_path.endswith('.mp4'):\n",
    "            mp4_file_path = file_path\n",
    "        else:\n",
    "            mp4_file_path = file_path.replace('.avi', '.mp4')\n",
    "            try:\n",
    "                ffmpeg.input(file_path).output(mp4_file_path).run()\n",
    "            except ffmpeg.Error as e:\n",
    "                print(\"Error converting video:\", e)\n",
    "\n",
    "        with open(file_path, \"rb\") as f:\n",
    "            avi_file_bytes = f.read()\n",
    "        with open(mp4_file_path, \"rb\") as f:\n",
    "            mp4_file_bytes = f.read()\n",
    "\n",
    "        avi_file = anvil.BlobMedia(\"video/avi\", avi_file_bytes, name=os.path.basename(file_path))\n",
    "        mp4_file = anvil.BlobMedia(\"video/mp4\", mp4_file_bytes, name=os.path.basename(mp4_file_path))\n",
    "        existing_file = app_tables.video_files.get(file_name=file.name)\n",
    "        if existing_file:\n",
    "            existing_file['avi_file'] = avi_file\n",
    "            existing_file['mp4_file'] = mp4_file\n",
    "            existing_file['upload_date'] = datetime.now()\n",
    "        else:\n",
    "            app_tables.video_files.add_row(\n",
    "                avi_file=avi_file,\n",
    "                mp4_file=mp4_file,\n",
    "                file_name=file.name,\n",
    "                upload_date=datetime.now()\n",
    "            )\n",
    "        print(file_path)\n",
    "        return file_path\n",
    "\n",
    "    return None"
   ]
  },
  {
   "cell_type": "code",
   "execution_count": null,
   "metadata": {},
   "outputs": [],
   "source": [
    "import cv2\n",
    "import torch\n",
    "import numpy as np\n",
    "from ultralytics import YOLO\n",
    "from tqdm import tqdm\n",
    "\n",
    "model = YOLO('/path/to/train/weights/best.pt', verbose=True)"
   ]
  }
 ],
 "metadata": {
  "language_info": {
   "name": "python"
  }
 },
 "nbformat": 4,
 "nbformat_minor": 2
}
